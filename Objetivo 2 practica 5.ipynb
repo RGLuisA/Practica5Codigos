{
 "cells": [
  {
   "cell_type": "markdown",
   "id": "ec5a5311",
   "metadata": {},
   "source": [
    "# Inciso b) Practica 5"
   ]
  },
  {
   "cell_type": "markdown",
   "id": "aafd6462",
   "metadata": {},
   "source": [
    "Entonces, para este objetivo de la practica entonces tenemos que considerar la siguiente ecuacion experimental para el diodo\n",
    "$$I=I_0\\left(e^{\\frac{e V_0}{\\eta k T}}-1\\right)$$\n",
    "Donde:\n",
    "1) $\\nu$ es una constante empirica a determinar\n",
    "2) $T$ es la temperatura en kelvins\n",
    "3) $k$ es la constante de boltzman\n",
    "4) $I_0$ es una constante empirica\n",
    "5) $V_0$ es el voltaje a traves del diodo\n",
    "\n",
    "Por determinar los valores de la constante empirica $\\nu$ y la de corriente inversa de saturación $I_0$"
   ]
  },
  {
   "cell_type": "markdown",
   "id": "ce753f11",
   "metadata": {},
   "source": [
    "Para ello se realizo el siguiente programa en python para calcular dichos valores en base a los resultados experimentales obtenidos durante la realizacion de la practica 5 correspondientes a la seccion lineal y considerando ademas de que la ecuacion requiere que nuestros valores de temperatura esten en la escala Kelvin mientras que al momento de realizar la practica, los datos capturados para la temperatura del diodo con el termometro estaban en Celcius por lo que se debe seguir la siguiente regla de conversion de unidades:\n",
    "\n",
    "$$T_{\\text{Kelvin}} = T_{\\text{Celcius}} + 273.15 $$\n",
    "\n",
    "Una vez hecho esta conversion lo que haremos a continuacion es ajustar los valores experimentales de voltaje y corriente a la ecuación del diodo para encontrar las constantes $\\nu$ y $I_0$.\n",
    "Es decir, lo que se va a hacer es el ajuste de la curva para encontrar las constantes."
   ]
  },
  {
   "cell_type": "code",
   "execution_count": 1,
   "id": "75dc10ab",
   "metadata": {},
   "outputs": [
    {
     "name": "stdout",
     "output_type": "stream",
     "text": [
      "La constante empirica nu es: 1.8182242579600703\n",
      "La constante de corriente inversa de saturacion I0 es: 4.898322280434058e-06\n"
     ]
    }
   ],
   "source": [
    "import numpy as np\n",
    "from scipy.optimize import curve_fit\n",
    "\n",
    "## Ingresamos los valores experimentales obtenidas experimentalmente y lo hacemos mediante un array como en el objetivo 1\n",
    "voltajes = np.array([0.430, 0.435, 0.440, 0.445, 0.450, 0.455, 0.460, 0.465, 0.470, 0.475, 0.480, 0.485, 0.490, 0.495, 0.500, 0.505, 0.510, 0.515, 0.520, 0.525])\n",
    "corrientes = np.array([0.118, 0.125, 0.148, 0.175, 0.201, 0.236, 0.271, 0.322, 0.361, 0.427, 0.478, 0.546, 0.610, 0.712, 0.791, 0.868, 0.968, 1.080, 1.201, 1.329])\n",
    "temperaturas_C = np.array([24.4, 24.3, 24.1, 24.0, 24.0, 24.1, 24.1, 24.1, 24.2, 24.2, 24.2, 24.1, 24.1, 24.2, 24.2, 24.2, 24.0, 24.0, 24.1, 24.1])\n",
    "\n",
    "## Hacemos la conversion de los datos de temperatura de celcius a kelvin usando la regla de conversion antes señalada\n",
    "temperaturas_K = temperaturas_C + 273.15\n",
    "\n",
    "## Definimos nuestra funcion para la ecuacion del diodo de la practica\n",
    "def ecuacion_diodo(V, nu, I0, eta, k, T):\n",
    "    return I0 * (np.exp((nu * V) / (eta * k * T)) - 1)\n",
    "\n",
    "## Hacemos el ajuste de la curva \n",
    "popt, pcov = curve_fit(ecuacion_diodo, voltajes, corrientes, bounds=(0, [np.inf, np.inf, np.inf, np.inf, np.inf]))\n",
    "nu_optimo, I0_optimo = popt[0], popt[1]\n",
    "\n",
    "print(f\"La constante empirica nu es: {nu_optimo}\")\n",
    "print(f\"La constante de corriente inversa de saturacion I0 es: {I0_optimo}\")\n"
   ]
  },
  {
   "cell_type": "markdown",
   "id": "4253a28b",
   "metadata": {},
   "source": [
    "Los puntos importantes del codigo son los siguientes:\n",
    "1) Se define una función llamada ecuacion_diodo que pues no representa otra cosa que la ecuación del diodo que estamos discutiendo. En el caso de este codigo, la ecuación que se usa en el mismo es una simplificación de la ecuación estándar del diodo, donde nosotros podemos ajustar los parámetros $\\nu$ y I0.\n",
    "\n",
    "2) Se hace uso de la funcion/herramienta \"curve_fit\" perteneciente a la paqueteria de scipy para ajustar los valores experimentales de la ecuacion del diodo y el como lo hace es del siguiente modo; lo que va a hacer la función/herramienta es encontrar los denominados \"valores óptimos\" para los parámetros de interes que son en este caso como hemos repetido varias veces $\\nu$ e $I_0$ para que estos sean optimos lo que deben hacer es que minimicen la diferencia entre los valores experimentales y los valores calculados por la función del diodo."
   ]
  },
  {
   "cell_type": "markdown",
   "id": "0ae83ad2",
   "metadata": {},
   "source": [
    "## Aviso importante del codigo"
   ]
  },
  {
   "cell_type": "markdown",
   "id": "26013cd8",
   "metadata": {},
   "source": [
    "Debido a las caracteristicas intrinsecas de los numeros float y su precision limitada debido a la cantidad de decimales, es probable que el codigo necesite de adecuaciones o que los resultados solo sean una aproximación."
   ]
  },
  {
   "cell_type": "code",
   "execution_count": null,
   "id": "ae801ca3",
   "metadata": {},
   "outputs": [],
   "source": []
  }
 ],
 "metadata": {
  "kernelspec": {
   "display_name": "Python 3 (ipykernel)",
   "language": "python",
   "name": "python3"
  },
  "language_info": {
   "codemirror_mode": {
    "name": "ipython",
    "version": 3
   },
   "file_extension": ".py",
   "mimetype": "text/x-python",
   "name": "python",
   "nbconvert_exporter": "python",
   "pygments_lexer": "ipython3",
   "version": "3.10.9"
  }
 },
 "nbformat": 4,
 "nbformat_minor": 5
}
